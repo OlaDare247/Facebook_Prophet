{
 "cells": [
  {
   "cell_type": "code",
   "execution_count": 1,
   "id": "1611b9b2",
   "metadata": {},
   "outputs": [],
   "source": [
    "import matplotlib.pyplot as plt\n",
    "import pandas as pd\n",
    "import numpy as np"
   ]
  },
  {
   "cell_type": "code",
   "execution_count": 2,
   "id": "fc263818",
   "metadata": {},
   "outputs": [
    {
     "name": "stdout",
     "output_type": "stream",
     "text": [
      "Defaulting to user installation because normal site-packages is not writeable\n",
      "Collecting fbprophet\n",
      "  Using cached fbprophet-0.7.1.tar.gz (64 kB)\n",
      "  Preparing metadata (setup.py): started\n",
      "  Preparing metadata (setup.py): finished with status 'done'\n",
      "Collecting Cython>=0.22\n",
      "  Using cached Cython-0.29.33-py2.py3-none-any.whl (987 kB)\n",
      "Collecting cmdstanpy==0.9.5\n",
      "  Using cached cmdstanpy-0.9.5-py3-none-any.whl (37 kB)\n",
      "Collecting pystan>=2.14\n",
      "  Using cached pystan-3.6.0-py3-none-any.whl (13 kB)\n",
      "Requirement already satisfied: numpy>=1.15.4 in c:\\program files\\python310\\lib\\site-packages (from fbprophet) (1.23.2)\n",
      "Requirement already satisfied: pandas>=1.0.4 in c:\\program files\\python310\\lib\\site-packages (from fbprophet) (1.4.3)\n",
      "Requirement already satisfied: matplotlib>=2.0.0 in c:\\program files\\python310\\lib\\site-packages (from fbprophet) (3.5.3)\n",
      "Requirement already satisfied: LunarCalendar>=0.0.9 in c:\\users\\717259\\appdata\\roaming\\python\\python310\\site-packages (from fbprophet) (0.0.9)\n",
      "Requirement already satisfied: convertdate>=2.1.2 in c:\\users\\717259\\appdata\\roaming\\python\\python310\\site-packages (from fbprophet) (2.4.0)\n",
      "Requirement already satisfied: holidays>=0.10.2 in c:\\users\\717259\\appdata\\roaming\\python\\python310\\site-packages (from fbprophet) (0.21.13)\n",
      "Collecting setuptools-git>=1.2\n",
      "  Using cached setuptools_git-1.2-py2.py3-none-any.whl (10 kB)\n",
      "Requirement already satisfied: python-dateutil>=2.8.0 in c:\\program files\\python310\\lib\\site-packages (from fbprophet) (2.8.2)\n",
      "Requirement already satisfied: tqdm>=4.36.1 in c:\\program files\\python310\\lib\\site-packages (from fbprophet) (4.64.0)\n",
      "Requirement already satisfied: pymeeus<=1,>=0.3.13 in c:\\users\\717259\\appdata\\roaming\\python\\python310\\site-packages (from convertdate>=2.1.2->fbprophet) (0.5.12)\n",
      "Requirement already satisfied: korean-lunar-calendar in c:\\users\\717259\\appdata\\roaming\\python\\python310\\site-packages (from holidays>=0.10.2->fbprophet) (0.3.1)\n",
      "Requirement already satisfied: hijri-converter in c:\\users\\717259\\appdata\\roaming\\python\\python310\\site-packages (from holidays>=0.10.2->fbprophet) (2.2.4)\n",
      "Requirement already satisfied: tzdata in c:\\users\\717259\\appdata\\roaming\\python\\python310\\site-packages (from holidays>=0.10.2->fbprophet) (2022.7)\n",
      "Requirement already satisfied: pytz in c:\\program files\\python310\\lib\\site-packages (from LunarCalendar>=0.0.9->fbprophet) (2022.2.1)\n",
      "Requirement already satisfied: ephem>=3.7.5.3 in c:\\users\\717259\\appdata\\roaming\\python\\python310\\site-packages (from LunarCalendar>=0.0.9->fbprophet) (4.1.4)\n",
      "Requirement already satisfied: pyparsing>=2.2.1 in c:\\program files\\python310\\lib\\site-packages (from matplotlib>=2.0.0->fbprophet) (3.0.9)\n",
      "Requirement already satisfied: packaging>=20.0 in c:\\program files\\python310\\lib\\site-packages (from matplotlib>=2.0.0->fbprophet) (21.3)\n",
      "Requirement already satisfied: cycler>=0.10 in c:\\program files\\python310\\lib\\site-packages (from matplotlib>=2.0.0->fbprophet) (0.11.0)\n",
      "Requirement already satisfied: kiwisolver>=1.0.1 in c:\\program files\\python310\\lib\\site-packages (from matplotlib>=2.0.0->fbprophet) (1.4.4)\n",
      "Requirement already satisfied: pillow>=6.2.0 in c:\\program files\\python310\\lib\\site-packages (from matplotlib>=2.0.0->fbprophet) (9.2.0)\n",
      "Requirement already satisfied: fonttools>=4.22.0 in c:\\program files\\python310\\lib\\site-packages (from matplotlib>=2.0.0->fbprophet) (4.37.1)\n",
      "Requirement already satisfied: setuptools in c:\\program files\\python310\\lib\\site-packages (from pystan>=2.14->fbprophet) (65.3.0)\n",
      "Collecting aiohttp<4.0,>=3.6\n",
      "  Using cached aiohttp-3.8.4-cp310-cp310-win_amd64.whl (319 kB)\n",
      "Collecting clikit<0.7,>=0.6\n",
      "  Using cached clikit-0.6.2-py2.py3-none-any.whl (91 kB)\n",
      "Collecting pystan>=2.14\n",
      "  Using cached pystan-3.5.0-py3-none-any.whl (13 kB)\n",
      "  Using cached pystan-3.4.0-py3-none-any.whl (13 kB)\n",
      "Collecting pysimdjson<4.0,>=3.2\n",
      "  Using cached pysimdjson-3.2.0.tar.gz (411 kB)\n",
      "  Preparing metadata (setup.py): started\n",
      "  Preparing metadata (setup.py): finished with status 'done'\n",
      "Collecting pystan>=2.14\n",
      "  Using cached pystan-3.3.0-py3-none-any.whl (13 kB)\n",
      "  Using cached pystan-3.2.0-py3-none-any.whl (13 kB)\n",
      "  Using cached pystan-3.1.1-py3-none-any.whl (13 kB)\n",
      "  Using cached pystan-3.1.0-py3-none-any.whl (13 kB)\n",
      "  Using cached pystan-3.0.2-py3-none-any.whl (13 kB)\n",
      "  Using cached pystan-3.0.1-py3-none-any.whl (12 kB)\n",
      "  Using cached pystan-3.0.0-py3-none-any.whl (12 kB)\n",
      "  Using cached pystan-2.19.1.1.tar.gz (16.2 MB)\n",
      "  Preparing metadata (setup.py): started\n",
      "  Preparing metadata (setup.py): finished with status 'error'\n"
     ]
    },
    {
     "name": "stderr",
     "output_type": "stream",
     "text": [
      "  error: subprocess-exited-with-error\n",
      "  \n",
      "  python setup.py egg_info did not run successfully.\n",
      "  exit code: 1\n",
      "  \n",
      "  [6 lines of output]\n",
      "  Traceback (most recent call last):\n",
      "    File \"<string>\", line 2, in <module>\n",
      "    File \"<pip-setuptools-caller>\", line 34, in <module>\n",
      "    File \"C:\\Users\\717259\\AppData\\Local\\Temp\\pip-install-io9ef2vc\\pystan_80f18017bbb241bfb8c6927fbc2fc0ec\\setup.py\", line 122, in <module>\n",
      "      from Cython.Build.Inline import _get_build_extension\n",
      "  ModuleNotFoundError: No module named 'Cython'\n",
      "  [end of output]\n",
      "  \n",
      "  note: This error originates from a subprocess, and is likely not a problem with pip.\n",
      "error: metadata-generation-failed\n",
      "\n",
      "Encountered error while generating package metadata.\n",
      "\n",
      "See above for output.\n",
      "\n",
      "note: This is an issue with the package mentioned above, not pip.\n",
      "hint: See above for details.\n"
     ]
    }
   ],
   "source": [
    "!pip install fbprophet"
   ]
  },
  {
   "cell_type": "code",
   "execution_count": 3,
   "id": "1e38f258",
   "metadata": {},
   "outputs": [
    {
     "name": "stdout",
     "output_type": "stream",
     "text": [
      "Defaulting to user installation because normal site-packages is not writeable\n",
      "Requirement already satisfied: prophet in c:\\users\\717259\\appdata\\roaming\\python\\python310\\site-packages (1.1.2)\n",
      "Requirement already satisfied: python-dateutil>=2.8.0 in c:\\program files\\python310\\lib\\site-packages (from prophet) (2.8.2)\n",
      "Requirement already satisfied: LunarCalendar>=0.0.9 in c:\\users\\717259\\appdata\\roaming\\python\\python310\\site-packages (from prophet) (0.0.9)\n",
      "Requirement already satisfied: pandas>=1.0.4 in c:\\program files\\python310\\lib\\site-packages (from prophet) (1.4.3)\n",
      "Requirement already satisfied: matplotlib>=2.0.0 in c:\\program files\\python310\\lib\\site-packages (from prophet) (3.5.3)\n",
      "Requirement already satisfied: tqdm>=4.36.1 in c:\\program files\\python310\\lib\\site-packages (from prophet) (4.64.0)\n",
      "Requirement already satisfied: cmdstanpy>=1.0.4 in c:\\users\\717259\\appdata\\roaming\\python\\python310\\site-packages (from prophet) (1.1.0)\n",
      "Requirement already satisfied: numpy>=1.15.4 in c:\\program files\\python310\\lib\\site-packages (from prophet) (1.23.2)\n",
      "Requirement already satisfied: convertdate>=2.1.2 in c:\\users\\717259\\appdata\\roaming\\python\\python310\\site-packages (from prophet) (2.4.0)\n",
      "Requirement already satisfied: holidays>=0.14.2 in c:\\users\\717259\\appdata\\roaming\\python\\python310\\site-packages (from prophet) (0.21.13)\n",
      "Requirement already satisfied: pymeeus<=1,>=0.3.13 in c:\\users\\717259\\appdata\\roaming\\python\\python310\\site-packages (from convertdate>=2.1.2->prophet) (0.5.12)\n",
      "Requirement already satisfied: korean-lunar-calendar in c:\\users\\717259\\appdata\\roaming\\python\\python310\\site-packages (from holidays>=0.14.2->prophet) (0.3.1)\n",
      "Requirement already satisfied: tzdata in c:\\users\\717259\\appdata\\roaming\\python\\python310\\site-packages (from holidays>=0.14.2->prophet) (2022.7)\n",
      "Requirement already satisfied: hijri-converter in c:\\users\\717259\\appdata\\roaming\\python\\python310\\site-packages (from holidays>=0.14.2->prophet) (2.2.4)\n",
      "Requirement already satisfied: pytz in c:\\program files\\python310\\lib\\site-packages (from LunarCalendar>=0.0.9->prophet) (2022.2.1)\n",
      "Requirement already satisfied: ephem>=3.7.5.3 in c:\\users\\717259\\appdata\\roaming\\python\\python310\\site-packages (from LunarCalendar>=0.0.9->prophet) (4.1.4)\n",
      "Requirement already satisfied: fonttools>=4.22.0 in c:\\program files\\python310\\lib\\site-packages (from matplotlib>=2.0.0->prophet) (4.37.1)\n",
      "Requirement already satisfied: pyparsing>=2.2.1 in c:\\program files\\python310\\lib\\site-packages (from matplotlib>=2.0.0->prophet) (3.0.9)\n",
      "Requirement already satisfied: packaging>=20.0 in c:\\program files\\python310\\lib\\site-packages (from matplotlib>=2.0.0->prophet) (21.3)\n",
      "Requirement already satisfied: cycler>=0.10 in c:\\program files\\python310\\lib\\site-packages (from matplotlib>=2.0.0->prophet) (0.11.0)\n",
      "Requirement already satisfied: kiwisolver>=1.0.1 in c:\\program files\\python310\\lib\\site-packages (from matplotlib>=2.0.0->prophet) (1.4.4)\n",
      "Requirement already satisfied: pillow>=6.2.0 in c:\\program files\\python310\\lib\\site-packages (from matplotlib>=2.0.0->prophet) (9.2.0)\n",
      "Requirement already satisfied: six>=1.5 in c:\\program files\\python310\\lib\\site-packages (from python-dateutil>=2.8.0->prophet) (1.16.0)\n",
      "Requirement already satisfied: colorama in c:\\program files\\python310\\lib\\site-packages (from tqdm>=4.36.1->prophet) (0.4.5)\n",
      "Note: you may need to restart the kernel to use updated packages.\n"
     ]
    }
   ],
   "source": [
    "pip install prophet"
   ]
  },
  {
   "cell_type": "code",
   "execution_count": 4,
   "id": "7a4bc7b5",
   "metadata": {},
   "outputs": [
    {
     "name": "stdout",
     "output_type": "stream",
     "text": [
      "Defaulting to user installation because normal site-packages is not writeable\n",
      "Requirement already satisfied: Prophet in c:\\users\\717259\\appdata\\roaming\\python\\python310\\site-packages (1.1.2)\n",
      "Requirement already satisfied: convertdate>=2.1.2 in c:\\users\\717259\\appdata\\roaming\\python\\python310\\site-packages (from Prophet) (2.4.0)\n",
      "Requirement already satisfied: matplotlib>=2.0.0 in c:\\program files\\python310\\lib\\site-packages (from Prophet) (3.5.3)\n",
      "Requirement already satisfied: LunarCalendar>=0.0.9 in c:\\users\\717259\\appdata\\roaming\\python\\python310\\site-packages (from Prophet) (0.0.9)\n",
      "Requirement already satisfied: python-dateutil>=2.8.0 in c:\\program files\\python310\\lib\\site-packages (from Prophet) (2.8.2)\n",
      "Requirement already satisfied: cmdstanpy>=1.0.4 in c:\\users\\717259\\appdata\\roaming\\python\\python310\\site-packages (from Prophet) (1.1.0)\n",
      "Requirement already satisfied: holidays>=0.14.2 in c:\\users\\717259\\appdata\\roaming\\python\\python310\\site-packages (from Prophet) (0.21.13)\n",
      "Requirement already satisfied: tqdm>=4.36.1 in c:\\program files\\python310\\lib\\site-packages (from Prophet) (4.64.0)\n",
      "Requirement already satisfied: numpy>=1.15.4 in c:\\program files\\python310\\lib\\site-packages (from Prophet) (1.23.2)\n",
      "Requirement already satisfied: pandas>=1.0.4 in c:\\program files\\python310\\lib\\site-packages (from Prophet) (1.4.3)\n",
      "Requirement already satisfied: pymeeus<=1,>=0.3.13 in c:\\users\\717259\\appdata\\roaming\\python\\python310\\site-packages (from convertdate>=2.1.2->Prophet) (0.5.12)\n",
      "Requirement already satisfied: tzdata in c:\\users\\717259\\appdata\\roaming\\python\\python310\\site-packages (from holidays>=0.14.2->Prophet) (2022.7)\n",
      "Requirement already satisfied: korean-lunar-calendar in c:\\users\\717259\\appdata\\roaming\\python\\python310\\site-packages (from holidays>=0.14.2->Prophet) (0.3.1)\n",
      "Requirement already satisfied: hijri-converter in c:\\users\\717259\\appdata\\roaming\\python\\python310\\site-packages (from holidays>=0.14.2->Prophet) (2.2.4)\n",
      "Requirement already satisfied: ephem>=3.7.5.3 in c:\\users\\717259\\appdata\\roaming\\python\\python310\\site-packages (from LunarCalendar>=0.0.9->Prophet) (4.1.4)\n",
      "Requirement already satisfied: pytz in c:\\program files\\python310\\lib\\site-packages (from LunarCalendar>=0.0.9->Prophet) (2022.2.1)\n",
      "Requirement already satisfied: cycler>=0.10 in c:\\program files\\python310\\lib\\site-packages (from matplotlib>=2.0.0->Prophet) (0.11.0)\n",
      "Requirement already satisfied: pillow>=6.2.0 in c:\\program files\\python310\\lib\\site-packages (from matplotlib>=2.0.0->Prophet) (9.2.0)\n",
      "Requirement already satisfied: pyparsing>=2.2.1 in c:\\program files\\python310\\lib\\site-packages (from matplotlib>=2.0.0->Prophet) (3.0.9)\n",
      "Requirement already satisfied: kiwisolver>=1.0.1 in c:\\program files\\python310\\lib\\site-packages (from matplotlib>=2.0.0->Prophet) (1.4.4)\n",
      "Requirement already satisfied: fonttools>=4.22.0 in c:\\program files\\python310\\lib\\site-packages (from matplotlib>=2.0.0->Prophet) (4.37.1)\n",
      "Requirement already satisfied: packaging>=20.0 in c:\\program files\\python310\\lib\\site-packages (from matplotlib>=2.0.0->Prophet) (21.3)\n",
      "Requirement already satisfied: six>=1.5 in c:\\program files\\python310\\lib\\site-packages (from python-dateutil>=2.8.0->Prophet) (1.16.0)\n",
      "Requirement already satisfied: colorama in c:\\program files\\python310\\lib\\site-packages (from tqdm>=4.36.1->Prophet) (0.4.5)\n",
      "Note: you may need to restart the kernel to use updated packages.\n"
     ]
    }
   ],
   "source": [
    "pip install Prophet"
   ]
  },
  {
   "cell_type": "code",
   "execution_count": 5,
   "id": "38e420bb",
   "metadata": {},
   "outputs": [
    {
     "name": "stdout",
     "output_type": "stream",
     "text": [
      "Defaulting to user installation because normal site-packages is not writeable\n",
      "Requirement already satisfied: plotly in c:\\users\\717259\\appdata\\roaming\\python\\python310\\site-packages (5.13.1)\n",
      "Requirement already satisfied: tenacity>=6.2.0 in c:\\users\\717259\\appdata\\roaming\\python\\python310\\site-packages (from plotly) (8.2.2)\n"
     ]
    }
   ],
   "source": [
    "!pip install --upgrade plotly"
   ]
  },
  {
   "cell_type": "code",
   "execution_count": 6,
   "id": "0f4e5c71",
   "metadata": {},
   "outputs": [
    {
     "name": "stdout",
     "output_type": "stream",
     "text": [
      "Note: you may need to restart the kernel to use updated packages.\n"
     ]
    },
    {
     "name": "stderr",
     "output_type": "stream",
     "text": [
      "ERROR: unknown command \"/conda/mamba/whatever\"\n",
      "\n"
     ]
    }
   ],
   "source": [
    "pip/conda/mamba/whatever install prophet"
   ]
  },
  {
   "cell_type": "code",
   "execution_count": 7,
   "id": "da04185a",
   "metadata": {},
   "outputs": [
    {
     "name": "stderr",
     "output_type": "stream",
     "text": [
      "'sudo' is not recognized as an internal or external command,\n",
      "operable program or batch file.\n"
     ]
    }
   ],
   "source": [
    "!sudo pip install pystan==2.19.1.1 prophet"
   ]
  },
  {
   "cell_type": "code",
   "execution_count": 8,
   "id": "327c9029",
   "metadata": {},
   "outputs": [
    {
     "name": "stderr",
     "output_type": "stream",
     "text": [
      "'sudo' is not recognized as an internal or external command,\n",
      "operable program or batch file.\n"
     ]
    }
   ],
   "source": [
    "! sudo pip install pystan==2.19.1.1 prophet"
   ]
  },
  {
   "cell_type": "code",
   "execution_count": 13,
   "id": "44bddf0e",
   "metadata": {},
   "outputs": [],
   "source": [
    "from prophet import Prophet"
   ]
  },
  {
   "cell_type": "code",
   "execution_count": 10,
   "id": "39d9b8b2",
   "metadata": {},
   "outputs": [
    {
     "name": "stdout",
     "output_type": "stream",
     "text": [
      "Defaulting to user installation because normal site-packages is not writeable\n",
      "Requirement already satisfied: Prophet in c:\\users\\717259\\appdata\\roaming\\python\\python310\\site-packages (1.1.2)\n",
      "Requirement already satisfied: holidays>=0.14.2 in c:\\users\\717259\\appdata\\roaming\\python\\python310\\site-packages (from Prophet) (0.21.13)\n",
      "Requirement already satisfied: numpy>=1.15.4 in c:\\program files\\python310\\lib\\site-packages (from Prophet) (1.23.2)\n",
      "Requirement already satisfied: pandas>=1.0.4 in c:\\program files\\python310\\lib\\site-packages (from Prophet) (1.4.3)\n",
      "Requirement already satisfied: LunarCalendar>=0.0.9 in c:\\users\\717259\\appdata\\roaming\\python\\python310\\site-packages (from Prophet) (0.0.9)\n",
      "Requirement already satisfied: convertdate>=2.1.2 in c:\\users\\717259\\appdata\\roaming\\python\\python310\\site-packages (from Prophet) (2.4.0)\n",
      "Requirement already satisfied: cmdstanpy>=1.0.4 in c:\\users\\717259\\appdata\\roaming\\python\\python310\\site-packages (from Prophet) (1.1.0)\n",
      "Requirement already satisfied: python-dateutil>=2.8.0 in c:\\program files\\python310\\lib\\site-packages (from Prophet) (2.8.2)\n",
      "Requirement already satisfied: matplotlib>=2.0.0 in c:\\program files\\python310\\lib\\site-packages (from Prophet) (3.5.3)\n",
      "Requirement already satisfied: tqdm>=4.36.1 in c:\\program files\\python310\\lib\\site-packages (from Prophet) (4.64.0)\n",
      "Requirement already satisfied: pymeeus<=1,>=0.3.13 in c:\\users\\717259\\appdata\\roaming\\python\\python310\\site-packages (from convertdate>=2.1.2->Prophet) (0.5.12)\n",
      "Requirement already satisfied: hijri-converter in c:\\users\\717259\\appdata\\roaming\\python\\python310\\site-packages (from holidays>=0.14.2->Prophet) (2.2.4)\n",
      "Requirement already satisfied: tzdata in c:\\users\\717259\\appdata\\roaming\\python\\python310\\site-packages (from holidays>=0.14.2->Prophet) (2022.7)\n",
      "Requirement already satisfied: korean-lunar-calendar in c:\\users\\717259\\appdata\\roaming\\python\\python310\\site-packages (from holidays>=0.14.2->Prophet) (0.3.1)\n",
      "Requirement already satisfied: ephem>=3.7.5.3 in c:\\users\\717259\\appdata\\roaming\\python\\python310\\site-packages (from LunarCalendar>=0.0.9->Prophet) (4.1.4)\n",
      "Requirement already satisfied: pytz in c:\\program files\\python310\\lib\\site-packages (from LunarCalendar>=0.0.9->Prophet) (2022.2.1)\n",
      "Requirement already satisfied: fonttools>=4.22.0 in c:\\program files\\python310\\lib\\site-packages (from matplotlib>=2.0.0->Prophet) (4.37.1)\n",
      "Requirement already satisfied: pyparsing>=2.2.1 in c:\\program files\\python310\\lib\\site-packages (from matplotlib>=2.0.0->Prophet) (3.0.9)\n",
      "Requirement already satisfied: cycler>=0.10 in c:\\program files\\python310\\lib\\site-packages (from matplotlib>=2.0.0->Prophet) (0.11.0)\n",
      "Requirement already satisfied: pillow>=6.2.0 in c:\\program files\\python310\\lib\\site-packages (from matplotlib>=2.0.0->Prophet) (9.2.0)\n",
      "Requirement already satisfied: kiwisolver>=1.0.1 in c:\\program files\\python310\\lib\\site-packages (from matplotlib>=2.0.0->Prophet) (1.4.4)\n",
      "Requirement already satisfied: packaging>=20.0 in c:\\program files\\python310\\lib\\site-packages (from matplotlib>=2.0.0->Prophet) (21.3)\n",
      "Requirement already satisfied: six>=1.5 in c:\\program files\\python310\\lib\\site-packages (from python-dateutil>=2.8.0->Prophet) (1.16.0)\n",
      "Requirement already satisfied: colorama in c:\\program files\\python310\\lib\\site-packages (from tqdm>=4.36.1->Prophet) (0.4.5)\n",
      "Note: you may need to restart the kernel to use updated packages.\n"
     ]
    }
   ],
   "source": [
    "%pip install Prophet"
   ]
  },
  {
   "cell_type": "code",
   "execution_count": null,
   "id": "704579eb",
   "metadata": {},
   "outputs": [],
   "source": [
    "!conda install -c conda-forge fbprophet -y"
   ]
  },
  {
   "cell_type": "code",
   "execution_count": null,
   "id": "24cccdad",
   "metadata": {},
   "outputs": [],
   "source": [
    "!pip install --upgrade plotly"
   ]
  },
  {
   "cell_type": "code",
   "execution_count": null,
   "id": "3dd1923c",
   "metadata": {},
   "outputs": [],
   "source": [
    "pip/conda/mamba/whatever install prophet"
   ]
  },
  {
   "cell_type": "code",
   "execution_count": null,
   "id": "e312ed61",
   "metadata": {},
   "outputs": [],
   "source": [
    "$ sudo pip install pystan==2.19.1.1 prophet"
   ]
  },
  {
   "cell_type": "code",
   "execution_count": null,
   "id": "1a5f4ed2",
   "metadata": {},
   "outputs": [],
   "source": [
    "from fbprophet import Prophet\n",
    "m = Prophet()\n",
    "m.fit(df)  # df is a pandas.DataFrame with 'y' and 'ds' columns\n",
    "future = m.make_future_dataframe(periods=365)\n",
    "m.predict(future)"
   ]
  },
  {
   "cell_type": "code",
   "execution_count": 15,
   "id": "2eacd28e",
   "metadata": {
    "scrolled": true
   },
   "outputs": [
    {
     "name": "stderr",
     "output_type": "stream",
     "text": [
      "A subdirectory or file -p already exists.\n",
      "Error occurred while processing: -p.\n",
      "A subdirectory or file dataset already exists.\n",
      "Error occurred while processing: dataset.\n",
      "'wget' is not recognized as an internal or external command,\n",
      "operable program or batch file.\n"
     ]
    }
   ],
   "source": [
    "from prophet import Prophet\n",
    "\n",
    "!mkdir -p dataset\n",
    "!wget -c -b http://www-personal.umich.edu/~mejn/cp/data/sunspots.txt -P dataset"
   ]
  },
  {
   "cell_type": "code",
   "execution_count": 16,
   "id": "4bbf1a91",
   "metadata": {},
   "outputs": [
    {
     "name": "stdout",
     "output_type": "stream",
     "text": [
      " Volume in drive G is home7\n",
      " Volume Serial Number is 8037-A501\n",
      "\n",
      " Directory of G:\\Downloads\n",
      "\n",
      "20/03/2023  11:07    <DIR>          .\n",
      "20/03/2023  10:03    <DIR>          ..\n",
      "20/03/2023  10:09    <DIR>          .ipynb_checkpoints\n",
      "07/11/2022  16:14             1,177 2019estimatesFemale.csv\n",
      "07/03/2023  18:14             1,249 AAI Reference.rtf\n",
      "08/03/2023  10:09         1,393,481 AAI Video Presentation.pptx\n",
      "04/03/2023  17:37           756,568 AAI_regression_lab_edited.pdf\n",
      "26/10/2022  12:16           204,794 acw_user_data.csv\n",
      "02/01/2023  22:12         3,811,656 adult_data.csv.crdownload\n",
      "14/03/2023  13:36    <DIR>          AI First Trimester\n",
      "18/03/2023  10:56            98,293 Ailead ML.ipynb\n",
      "18/03/2023  14:10        11,201,236 anpr-yolo-licence plate.ipynb\n",
      "19/03/2023  16:48    <DIR>          Applied AI\n",
      "28/01/2023  22:23            42,184 Artificial Intelligence.ipynb\n",
      "11/12/2022  16:15             8,695 Artificial Intelligence-Copy1.ipynb\n",
      "14/11/2022  11:12           918,278 Artificial_Neural_Network_lab_code .pdf\n",
      "19/11/2022  07:51         4,049,799 Assignment.ipynb\n",
      "07/11/2022  17:11           135,786 Assignment_Project-Data Science.pdf\n",
      "15/02/2023  20:00            41,844 backpain.csv\n",
      "01/02/2023  20:27    <DIR>          bbdc_2018\n",
      "07/03/2023  14:13         5,566,340 bbdc_2018.zip\n",
      "13/03/2023  10:17           647,419 Big Data Week 1.ipynb\n",
      "13/03/2023  11:27           533,598 Big Data Week 7.ipynb\n",
      "20/03/2023  11:05            24,110 Big Data Week 8.ipynb\n",
      "20/03/2023  11:07            65,227 Big Data Week 8.odt\n",
      "27/10/2022  14:06               703 BrisbaneScores2004.csv\n",
      "05/02/2023  22:14           218,005 BSc1.pdf\n",
      "13/02/2023  13:13            14,618 cakeshop.csv\n",
      "07/03/2023  12:05            14,193 cakeshop2.csv.crdownload\n",
      "17/03/2023  21:01           422,471 Cars4U.ipynb\n",
      "17/03/2023  21:38           420,949 Cars4U123.ipynb\n",
      "18/03/2023  12:53           572,060 Cars4U-Copy1.ipynb\n",
      "05/02/2023  11:44            87,373 cefas-noisy.csv\n",
      "13/12/2022  09:00         1,137,635 CENSUS DATA word.docx\n",
      "07/11/2022  17:01           929,456 census_14_2022.csv\n",
      "27/02/2023  10:21             3,908 clustering.py\n",
      "12/12/2022  11:00        21,530,849 clustering_lab_code (1).pdf\n",
      "21/11/2022  10:41        21,530,849 clustering_lab_code.pdf\n",
      "14/12/2022  17:10            16,685 co2_emissions.png\n",
      "31/01/2023  15:57        12,585,571 Component 3 Submission of AI Final Assessment.ipynb\n",
      "08/11/2022  10:38             7,698 Corrections to Workshop.ipynb\n",
      "21/11/2022  10:50            70,167 coversheet2022 (1).docx\n",
      "09/12/2022  10:52            70,206 coversheet2022 Data Science.docx\n",
      "14/11/2022  10:13            70,252 coversheet2022.docx\n",
      "07/11/2022  05:38            13,745 CSV Reader-Writer.ipynb\n",
      "21/11/2022  10:51            70,202 Data Science Coversheet.docx\n",
      "25/11/2022  02:27         1,430,217 Data Science Powerpoint2.zip\n",
      "24/11/2022  08:24        36,925,540 Data Science.mp4\n",
      "25/11/2022  03:55        52,406,661 Data Science12.mp4\n",
      "07/11/2022  11:55           373,040 Data_Set2.csv\n",
      "20/03/2023  11:03    <DIR>          dataset\n",
      "07/02/2023  13:22         1,876,984 Debit Instruction.JPG\n",
      "05/02/2023  13:39        19,324,447 dft-road-casualty-statistics-accident-2019.csv\n",
      "05/02/2023  13:38         9,407,957 dft-road-casualty-statistics-casualty-2019.csv\n",
      "05/02/2023  13:39        18,361,596 dft-road-casualty-statistics-vehicle-2019.csv\n",
      "09/11/2022  20:15             2,396 diatnce_salary.png\n",
      "07/11/2022  11:26             2,396 distance_salary.png\n",
      "08/12/2022  14:34            86,589 Downloads_.html\n",
      "08/12/2022  14:34    <DIR>          Downloads__files\n",
      "08/12/2022  14:44            57,022 DS.ipynb\n",
      "13/10/2022  13:38               567 duck_collection.json\n",
      "08/11/2022  11:00               567 duck_file.json\n",
      "21/11/2022  11:55        32,415,278 Emergency Vehicle.zip\n",
      "13/10/2022  13:41             1,302 ex1_data.txt\n",
      "13/10/2022  15:10                37 ex1_data_copy.txt\n",
      "15/12/2022  10:31         7,980,825 Final Assessment on AI First Trimester Component 2.7z\n",
      "04/01/2023  14:59        38,632,534 Final Assessment on AI First Trimester Component 2.zip\n",
      "15/12/2022  09:26        12,563,044 Final Assessment on AI-Copy1.ipynb\n",
      "04/01/2023  14:57         3,444,887 Final Assessment on Data Science.zip\n",
      "04/01/2023  14:56         3,557,373 Final Assignment Data Science.zip\n",
      "05/02/2023  00:40         1,938,014 Final Assignment on Data Science.ipynb\n",
      "31/01/2023  12:46            67,227 Frank (1).ipynb\n",
      "10/12/2022  21:48            41,406 Frank.ipynb\n",
      "07/11/2022  12:36           363,701 FuelConsumptionRatings.csv\n",
      "13/03/2023  14:06        66,212,309 IMDB Dataset.csv\n",
      "06/01/2023  14:05         2,511,910 IMG_1538.JPG.crdownload\n",
      "26/01/2023  11:26            55,628 insurance.csv\n",
      "29/09/2022  10:08         2,575,392 L1.2-Starting Python.pdf\n",
      "27/02/2023  14:22        13,268,130 lab_images_AAI.pdf\n",
      "31/10/2022  11:12            96,997 Laboratory Exercise_Week_2 (1).pdf\n",
      "31/10/2022  10:16            96,997 Laboratory Exercise_Week_2.pdf\n",
      "01/02/2023  20:13            53,466 linear_regression_master.Trimester2.ipynb\n",
      "03/03/2023  12:09           205,669 Loan_Modelling.csv\n",
      "25/11/2022  18:55             8,766 Marital_Age,png.png\n",
      "08/12/2022  23:26            15,963 Marital_Age.zip\n",
      "20/02/2023  10:23            30,290 mhs - Copy.csv\n",
      "20/02/2023  10:23            30,290 mhs.csv\n",
      "20/02/2023  10:22           109,568 mhs.xls\n",
      "15/12/2022  10:57        12,585,571 My Submission of Final AI Assessment Component 2.ipynb\n",
      "31/10/2022  11:14            97,558 MY2012-2022 Battery Electric Vehicles.csv\n",
      "14/12/2022  18:34             1,754 Number 3.ipynb\n",
      "05/02/2023  22:14            47,771 Offer_2022190670101_2 (2).pdf\n",
      "02/12/2022  12:39           338,760 Ola Cv.don.docx\n",
      "02/12/2022  11:45           455,448 Olaitan Updated Cv (1).AI\n",
      "02/12/2022  12:50           926,292 Olaitan Updated Cv (1).docx\n",
      "25/11/2022  15:53           455,448 Olaitan Updated Cv.AI\n",
      "02/12/2022  12:08         1,690,422 Olaitan Updated Cv.docx\n",
      "02/12/2022  12:52           926,531 Olaitan Updated CvAI2.docx\n",
      "20/03/2023  11:03    <DIR>          -p\n",
      "27/02/2023  10:18            61,159 PCA_Iris.ipynb\n",
      "06/01/2023  13:56            88,698 PHOTO-2020-12-17-15-55-32.jpg.crdownload\n",
      "29/12/2022  11:36           104,157 PHOTO-2022-12-09-11-04-30.jpg.crdownload\n",
      "18/03/2023  11:31             4,606 Price.png\n",
      "15/11/2022  01:15                 0 processed.json\n",
      "02/11/2022  12:21         3,029,557 Programming Assignment.ipynb\n",
      "26/10/2022  14:07         1,043,140 Programming.ipynb\n",
      "06/02/2023  21:43         1,951,053 Project on Data Science.ipynb\n",
      "08/12/2022  23:24           647,855 Project on Data Science.zip\n",
      "26/02/2023  17:05         2,278,810 Project on Data Science-Copy1.ipynb\n",
      "04/02/2023  13:04            17,009 SANTOS JEFFIRE  PRJ MGTt SOP.docx\n",
      "07/11/2022  16:29           206,921 Seaborn (1).ipynb\n",
      "15/11/2022  14:00           206,908 Seaborn (2).ipynb\n",
      "15/11/2022  14:04           206,921 Seaborn.ipynb\n",
      "05/02/2023  22:17            30,692 Status Letter.pdf\n",
      "21/11/2022  11:20           328,786 Summative Assessment Guide for Understanding Artificial Intelligence___-1.pdf\n",
      "06/10/2022  09:09             1,153 timetable_2022-10-06.pdf\n",
      "20/10/2022  12:05            65,161 titanic.csv\n",
      "31/10/2022  15:34            61,194 titanictrain.csv\n",
      "28/11/2022  13:07           288,711 Training a Data Set3.ipynb\n",
      "07/11/2022  10:31         3,700,132 Training a machine learning model_lab_example.pdf\n",
      "15/12/2022  01:27            11,880 training data (1).ipynb\n",
      "15/12/2022  09:38            25,571 training data.ipynb\n",
      "07/11/2022  16:45           459,017 Trimester 1 Number 2.ipynb\n",
      "15/11/2022  12:52         8,495,375 Trimester 1 Programming.ipynb\n",
      "26/10/2022  14:30         1,043,201 Trimester 1.ipynb\n",
      "04/03/2023  18:45           177,409 Trimester 2 Workshop 1 AAI.ipynb\n",
      "18/03/2023  18:25            97,104 Unconfirmed 761911.crdownload\n",
      "18/03/2023  18:24        45,416,448 Unconfirmed 881353.crdownload\n",
      "21/11/2022  11:34           724,466 Understanding_AI_CNN_Lab.pdf\n",
      "26/10/2022  13:29             2,462 Untitled.ipynb\n",
      "07/11/2022  11:11                 0 untitled.txt\n",
      "31/10/2022  17:25            85,514 Untitled1.ipynb\n",
      "01/11/2022  22:22         1,634,639 Untitled2.ipynb\n",
      "02/01/2023  23:07            97,424 Untitled7.ipynb\n",
      "31/01/2023  10:43           808,887 used_cars_data-1.csv\n",
      "15/12/2022  09:48            25,571 uuuu.ipynb\n",
      "20/02/2023  12:21           829,952 variable lookup.xls\n",
      "07/03/2023  14:58    <DIR>          Vehicle DataSet\n",
      "07/03/2023  14:32       186,679,675 Vehicle DataSet.zip\n",
      "18/03/2023  18:08           242,398 Vehicle Png1.ipynb\n",
      "01/11/2022  08:46            85,514 Week6 Jaber.ipynb\n",
      "31/10/2022  15:12         4,870,892 Week-6-DataSci.pptx\n",
      "25/02/2023  20:14         3,844,233 who_data.csv\n",
      "13/10/2022  15:32         3,971,851 wind_data (1).csv\n",
      "13/10/2022  13:38         3,971,851 wind_data.csv\n",
      "13/10/2022  10:35            42,313 Workshop1Tasks (1).ipynb\n",
      "17/10/2022  09:56            32,629 Workshop1Tasks (2).ipynb\n",
      "29/09/2022  11:16            33,204 Workshop1Tasks.ipynb\n",
      "06/10/2022  15:39            38,195 Workshop2Tasks.ipynb\n",
      "09/11/2022  20:03         4,438,532 Workshop3Tasks.ipynb\n",
      "12/11/2022  18:46           268,450 Workshop4Tasks.ipynb\n",
      "09/11/2022  20:14               739 write.json\n",
      "27/02/2023  07:51               583 XYcoordinates.txt\n",
      "             143 File(s)    716,126,468 bytes\n",
      "              10 Dir(s)          40,960 bytes free\n"
     ]
    }
   ],
   "source": [
    "ls"
   ]
  },
  {
   "cell_type": "code",
   "execution_count": null,
   "id": "b32374cb",
   "metadata": {},
   "outputs": [],
   "source": [
    "data = np.loadtxt(\"dataset/sunspots.txt\", float)"
   ]
  },
  {
   "cell_type": "code",
   "execution_count": null,
   "id": "c8c90821",
   "metadata": {},
   "outputs": [],
   "source": []
  },
  {
   "cell_type": "code",
   "execution_count": null,
   "id": "72ce2640",
   "metadata": {},
   "outputs": [],
   "source": []
  },
  {
   "cell_type": "code",
   "execution_count": null,
   "id": "764e051c",
   "metadata": {},
   "outputs": [],
   "source": []
  }
 ],
 "metadata": {
  "kernelspec": {
   "display_name": "Python 3 (ipykernel)",
   "language": "python",
   "name": "python3"
  },
  "language_info": {
   "codemirror_mode": {
    "name": "ipython",
    "version": 3
   },
   "file_extension": ".py",
   "mimetype": "text/x-python",
   "name": "python",
   "nbconvert_exporter": "python",
   "pygments_lexer": "ipython3",
   "version": "3.10.6"
  }
 },
 "nbformat": 4,
 "nbformat_minor": 5
}
